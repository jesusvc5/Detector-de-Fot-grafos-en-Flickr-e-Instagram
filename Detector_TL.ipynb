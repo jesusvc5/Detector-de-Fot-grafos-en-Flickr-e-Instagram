{
 "cells": [
  {
   "cell_type": "code",
   "execution_count": null,
   "id": "b8e55239",
   "metadata": {},
   "outputs": [],
   "source": [
    "import sys\n",
    "import os\n",
    "import pandas as pd\n",
    "import numpy as np\n",
    "\n",
    "import matplotlib.pyplot as plt\n",
    "import seaborn as sns\n",
    "\n",
    "import joblib\n",
    "\n",
    "SEMILLA_ALEATORIEDAD = 123\n",
    "np.random.seed(SEMILLA_ALEATORIEDAD)"
   ]
  },
  {
   "cell_type": "code",
   "execution_count": null,
   "id": "52b8a931",
   "metadata": {},
   "outputs": [],
   "source": [
    "from pandas import set_option\n",
    "#from pandas.tools.plotting import scatter_matrix\n",
    "from sklearn.preprocessing import StandardScaler\n",
    "from sklearn.model_selection import train_test_split\n",
    "from sklearn.model_selection import GridSearchCV\n",
    "from sklearn.metrics import classification_report\n",
    "from sklearn.metrics import confusion_matrix\n",
    "from sklearn.metrics import accuracy_score\n",
    "from sklearn.discriminant_analysis import LinearDiscriminantAnalysis\n",
    "from sklearn.svm import SVC\n",
    "from sklearn.ensemble import GradientBoostingClassifier\n",
    "from sklearn.ensemble import RandomForestClassifier"
   ]
  },
  {
   "cell_type": "code",
   "execution_count": null,
   "id": "da30b5d3",
   "metadata": {},
   "outputs": [],
   "source": [
    "# Crea un gráfico circular con el porcentaje de fotógrafos prefesionales y los que no\n",
    "def show_loan_distrib(y):\n",
    "    i=0\n",
    "    normales = 0\n",
    "    fotografos = 0\n",
    "    while (i<len(y)):\n",
    "        if y[i]==0:\n",
    "            normales+=1\n",
    "        else: fotografos+=1\n",
    "        i+=1\n",
    "\n",
    "    tamanos = [fotografos, normales]\n",
    "    etiquetas = [f'Fotógrafos profesionales - {tamanos[0]}', f'Otros usuarios - {tamanos[1]}']\n",
    "\n",
    "    plt.pie(tamanos, labels=etiquetas, autopct = '%1.1f%%', explode = [0, 0.1])\n",
    "    plt.show()"
   ]
  },
  {
   "cell_type": "code",
   "execution_count": null,
   "id": "d8ac964b",
   "metadata": {},
   "outputs": [],
   "source": [
    "# Función para representar la matriz de confusión de las etiquetas\n",
    "\n",
    "from sklearn.metrics import confusion_matrix\n",
    "\n",
    "def matrix_confusion_etiq(etiq_manual, etiq_auto):\n",
    "    cm = confusion_matrix(etiq_manual, etiq_auto) \n",
    "    print(cm)\n",
    "    \n",
    "    # Para mostrar la información en porcetanjes también\n",
    "    cm_porcentaje = cm.astype('float')/cm.sum()*100\n",
    "\n",
    "    fig, ax = plt.subplots()\n",
    "    cax = ax.matshow(cm, cmap=plt.cm.Blues)\n",
    "    fig.colorbar(cax)\n",
    "\n",
    "    for (i, j), val in np.ndenumerate(cm):\n",
    "        percentage = cm_porcentaje[i, j]\n",
    "        if i==0 and j==0:\n",
    "            ax.text(j, i, f'{val} ({percentage:.2f}%)', ha='center', va='center', color = 'white')\n",
    "        else:\n",
    "            ax.text(j, i, f'{val} ({percentage:.2f}%)', ha='center', va='center', color = 'black')\n",
    "\n",
    "\n",
    "    labels = ['No Fotógrafo', 'Fotógrafo']\n",
    "\n",
    "    ax.set_xlabel('Etiqueta Automática')\n",
    "    ax.set_ylabel('Etiqueta Manual')\n",
    "    ax.set_xticks(np.arange(len(labels)))\n",
    "    ax.set_yticks(np.arange(len(labels)))\n",
    "    ax.set_xticklabels(labels)\n",
    "    ax.set_yticklabels(labels)\n",
    "    ax.set_title('Matriz de Confusión de etiquetados')\n",
    "\n",
    "    plt.show() "
   ]
  },
  {
   "cell_type": "code",
   "execution_count": null,
   "id": "27b30991",
   "metadata": {},
   "outputs": [],
   "source": [
    "# Función para representar la matriz de confusión de las predicciones\n",
    "\n",
    "from sklearn.metrics import confusion_matrix\n",
    "\n",
    "def matrix_confusion_pred(y_test, y_pred):\n",
    "    cm = confusion_matrix(y_test, y_pred) \n",
    "    print(cm)\n",
    "    \n",
    "    # Para mostrar la información en porcetanjes también\n",
    "    #cm_porcentaje = cm.astype('float')/cm.sum()*100\n",
    "\n",
    "    fig, ax = plt.subplots()\n",
    "    cax = ax.matshow(cm, cmap=plt.cm.Blues)\n",
    "    fig.colorbar(cax)\n",
    "\n",
    "    for (i, j), val in np.ndenumerate(cm):\n",
    "        #percentage = cm_porcentaje[i, j]\n",
    "        fontsize = 12\n",
    "        color = 'white' if cm[i, j] > cm.max() / 2 else 'black'\n",
    "        ax.text(j, i, f'{val}', ha='center', va='center', color=color, fontsize=fontsize)\n",
    "\n",
    "    labels = ['No Fotógrafo', 'Fotógrafo']\n",
    "\n",
    "    ax.set_xlabel('Predicción')\n",
    "    ax.set_ylabel('Ground-truth')\n",
    "    ax.set_xticks(np.arange(len(labels)))\n",
    "    ax.set_yticks(np.arange(len(labels)))\n",
    "    ax.set_xticklabels(labels)\n",
    "    ax.set_yticklabels(labels)\n",
    "    ax.set_title('Matriz de confusión de la predicción de expertos')\n",
    "\n",
    "    plt.show() "
   ]
  },
  {
   "cell_type": "code",
   "execution_count": null,
   "id": "7ba6c69b",
   "metadata": {},
   "outputs": [],
   "source": [
    "# Función que plotea la curva ROC\n",
    "\n",
    "from sklearn.metrics import roc_curve, auc\n",
    "\n",
    "def roc_auc(y_test, y_pred_test_proba):\n",
    "    fpr, tpr, thresholds = metrics.roc_curve(y_test, y_pred_test_proba)\n",
    "    roc_auc = auc(fpr, tpr)\n",
    "\n",
    "    #plt.subplot(1, 2, 1)\n",
    "    plt.plot(fpr, tpr, color='darkorange', lw=2, label=f'ROC curve (area = {roc_auc:.2f})')\n",
    "    plt.plot([0, 1], [0, 1], color='navy', lw=2, linestyle='--', label='Random guess (AUC = 0.5)')\n",
    "    plt.xlim([0.0, 1.0])\n",
    "    plt.ylim([0.0, 1.05])\n",
    "    plt.xlabel('False Positive Rate')\n",
    "    plt.ylabel('True Positive Rate')\n",
    "    plt.title('Receiver Operating Characteristic (ROC)')\n",
    "    plt.legend(loc=\"lower right\")\n",
    "    plt.tight_layout()\n",
    "    plt.show()"
   ]
  },
  {
   "cell_type": "code",
   "execution_count": null,
   "id": "112bd625",
   "metadata": {},
   "outputs": [],
   "source": [
    "# Función que plotea la curva Precision-Recall\n",
    "\n",
    "from sklearn.metrics import precision_recall_curve, auc\n",
    "from numpy import argmax\n",
    "\n",
    "def pr_auc(y_test, y_pred_test_proba):\n",
    "    precision, recall, thresholds = precision_recall_curve(y_test, y_pred_test_proba)\n",
    "    \n",
    "    # convert to f score\n",
    "    fscore = (2 * precision * recall) / (precision + recall)\n",
    "    # locate the index of the largest f score\n",
    "    ix = argmax(fscore)\n",
    "    \n",
    "    pr_auc = auc(recall, precision)\n",
    "    # locate the index of the largest f score\n",
    "    ix = argmax(fscore)\n",
    "    print('Best Threshold=%f, F-Score=%.3f' % (thresholds[ix], fscore[ix]))\n",
    "    # plot the roc curve for the model\n",
    "    no_skill = len(y_test[y_test==1]) / len(y_test)\n",
    "    plt.plot([0,1], [no_skill,no_skill], linestyle='--', label='No Skill')\n",
    "    plt.plot(recall, precision, marker='.', label= f'PR curve (area = {pr_auc:.2f})')\n",
    "    plt.scatter(recall[ix], precision[ix], marker='o', color='black', label='Best')\n",
    "    # axis labels\n",
    "    plt.xlabel('Recall')\n",
    "    plt.ylabel('Precision')\n",
    "    plt.legend()\n",
    "    # show the plot\n",
    "    plt.show()\n",
    "    return thresholds[ix]"
   ]
  },
  {
   "cell_type": "code",
   "execution_count": null,
   "id": "405d29b9",
   "metadata": {},
   "outputs": [],
   "source": [
    "# Función que representa en un diagrama de barras las medidas de desempeño en la predicción\n",
    "\n",
    "# valores es el array con los valores de las métricas que queremos plotear\n",
    "# ponemos el título del plot como argumento para especificar el caso que estamos ploteando\n",
    "def show_bars_metrics(valores, titulo):\n",
    "    nombres = [\"Accuracy\",\"Precision\",\"Recall\",\"f1\", \"ROC-AUC\", \"AP/PR-AUC\"]\n",
    "    color = ['#1f77b4', '#ff7f0e', '#2ca02c', '#d62728', '#9467bd', '#8c564b']\n",
    "\n",
    "    # Nombres y valores de las medidas\n",
    "    #valores = fila_max_manual.values[2:7]\n",
    "\n",
    "    # Crear una figura y un eje\n",
    "    fig, ax = plt.subplots()\n",
    "\n",
    "    # Crear la gráfica de barras\n",
    "    bars = ax.bar(nombres, valores, color=color, width=0.65)\n",
    "\n",
    "    # Agregar etiquetas de valores a las barras\n",
    "    for bar in bars:\n",
    "        height = bar.get_height()\n",
    "        ax.annotate(f'{height:.3f}', xy=(bar.get_x() + bar.get_width() / 2, height), \n",
    "                    xytext=(0, 3), textcoords=\"offset points\", ha='center', va='bottom', fontsize=16)\n",
    "\n",
    "    # Agregar título y etiquetas de ejes\n",
    "    ax.set_title(titulo, fontweight='bold', fontsize=20)\n",
    "    ax.set_xlabel('Medidas', fontsize=12)\n",
    "    ax.set_ylabel('Valores', fontsize=12)\n",
    "    plt.yticks(fontsize=14)\n",
    "\n",
    "    # Mostrar la gráfica\n",
    "    plt.show()"
   ]
  },
  {
   "cell_type": "code",
   "execution_count": null,
   "id": "751cd096",
   "metadata": {},
   "outputs": [],
   "source": [
    "# Función que dibuja las distribuciones de las características individuales, para cada tipo de etiquetado\n",
    "\n",
    "# str_etiq es el string del nombre que tiene la variable de clase en el data set df\n",
    "def show_individual_distrib(df, str_etiq):\n",
    "    df_prof = df[df[str_etiq] == 1]\n",
    "    df_noProf = df[df[str_etiq] == 0]\n",
    "\n",
    "    # Quitamos la columna de respuesta\n",
    "    df_dist = df_manual.iloc[:,:-1]\n",
    "\n",
    "    # Calculamos el número de filas y columnas necesarias para organizar los subtrazados\n",
    "    n_rows = (len(df_dist.columns) + 3) // 4  # Aproximadamente 4 subplots por fila\n",
    "    n_cols = min(len(df_dist.columns), 4)\n",
    "\n",
    "    # Ajustamos el tamaño de la figura\n",
    "    fig, axes = plt.subplots(nrows=n_rows, ncols=n_cols, figsize=(20, 4 * n_rows))\n",
    "\n",
    "    # Ploteamos la distribución de cada columna en un subplot separado\n",
    "    for i, column in enumerate(df_dist.columns):\n",
    "        ax = axes[i // n_cols, i % n_cols]  # Calculamos la posición del subplot en la cuadrícula\n",
    "        # Cada diagrama tendrá 40 barras como máximo\n",
    "        df_prof[column].hist(bins=40, color = 'orange', alpha = 0.5, ax=ax)\n",
    "        df_noProf[column].hist(bins=40, color = 'blue', alpha = 0.5,ax=ax)\n",
    "        ax.set_title('{}'.format(column))\n",
    "        ax.set_xlabel('Valor')\n",
    "        ax.set_ylabel('Frecuencia')\n",
    "\n",
    "    # Ajusta automáticamente el diseño de la figura para evitar superposiciones\n",
    "    plt.tight_layout()\n",
    "    plt.show()"
   ]
  },
  {
   "cell_type": "code",
   "execution_count": null,
   "id": "794e0e57",
   "metadata": {},
   "outputs": [],
   "source": [
    "# Nos devuelve la información sobre la asimetría y la curtosis\n",
    "\n",
    "# Nos devuelve el skewness y la kurtosis de cada característica\n",
    "from scipy.stats import skew, kurtosis\n",
    "\n",
    "def info_asymetry(df):\n",
    "    skewness = df.apply(skew)\n",
    "    kurt = df.apply(kurtosis)\n",
    "\n",
    "    result = pd.DataFrame({\n",
    "        'Feature': df.columns,\n",
    "        'Skewness': skewness,\n",
    "        'Kurtosis': kurt\n",
    "    }).reset_index(drop=True)\n",
    "    return result"
   ]
  },
  {
   "cell_type": "code",
   "execution_count": null,
   "id": "f8435b1e",
   "metadata": {},
   "outputs": [],
   "source": [
    "# Dibuja la matriz de correlación de Pearson entre los atributos\n",
    "\n",
    "def show_correlation(df):\n",
    "    correlation_matrix=df.corr().abs()\n",
    "    sns.set(font_scale = 0.8)\n",
    "\n",
    "    f, ax = plt.subplots(figsize=(12,12))\n",
    "\n",
    "    sns.heatmap(correlation_matrix, cmap='YlGnBu', square=True, ax = ax)\n",
    "\n",
    "    # Rotar las etiquetas del eje x\n",
    "    plt.xticks(rotation=90)\n",
    "\n",
    "    f.tight_layout()"
   ]
  },
  {
   "cell_type": "code",
   "execution_count": null,
   "id": "2c6c440d",
   "metadata": {},
   "outputs": [],
   "source": [
    "# Partición de los datos\n",
    "\n",
    "def data_partition(df, proportion, str_etiq):\n",
    "    train_df, test_df = train_test_split(df, test_size=proportion, random_state=SEMILLA_ALEATORIEDAD, stratify=df[str_etiq])\n",
    "\n",
    "    # Separamos la variable de clase de las demás\n",
    "    train_manual_x = train_df.loc[:, train_df.columns != str_etiq]\n",
    "    train_manual_y = train_df.loc[:, str_etiq]\n",
    "\n",
    "    test_manual_x = test_df.loc[:, test_df.columns != str_etiq]\n",
    "    test_manual_y = test_df.loc[:, str_etiq]\n",
    "    \n",
    "    return [train_manual_x, train_manual_y, test_manual_x, test_manual_y]"
   ]
  },
  {
   "cell_type": "code",
   "execution_count": null,
   "id": "7e60247f",
   "metadata": {},
   "outputs": [],
   "source": [
    "# Escalado con StandardScaler\n",
    "\n",
    "from sklearn.preprocessing import StandardScaler\n",
    "\n",
    "# Escalado estándar\n",
    "def std_Scaler_data(train_x, test_x):\n",
    "    \n",
    "    scaler = StandardScaler()\n",
    "    scaler.fit(train_x)\n",
    "    trainScaled_x = pd.DataFrame(scaler.transform(train_x), columns=train_x.columns, index=train_x.index)\n",
    "    testScaled_x = pd.DataFrame(scaler.transform(test_x), columns=test_x.columns, index=test_x.index)\n",
    "    return [trainScaled_x, testScaled_x]"
   ]
  },
  {
   "cell_type": "code",
   "execution_count": null,
   "id": "268037c4",
   "metadata": {},
   "outputs": [],
   "source": [
    "# Escalado con QuantileTransformer\n",
    "\n",
    "from sklearn.preprocessing import QuantileTransformer\n",
    "\n",
    "# QuantileTransformer\n",
    "def qt_Transformer_data(train_x, test_x):\n",
    "    \n",
    "    qt = QuantileTransformer(output_distribution='normal')\n",
    "    qt.fit(train_x)\n",
    "    trainQT_x = pd.DataFrame(qt.transform(train_x), columns=train_x.columns, index=train_x.index)\n",
    "    testQT_x = pd.DataFrame(qt.transform(test_x), columns=test_x.columns, index=test_x.index)\n",
    "    return [trainQT_x, testQT_x]"
   ]
  },
  {
   "cell_type": "code",
   "execution_count": null,
   "id": "603ab89f",
   "metadata": {},
   "outputs": [],
   "source": [
    "# Clase que representa el transformador donde se elimina del conjunto las columnas con valores constantes\n",
    "\n",
    "import numpy as np\n",
    "import pandas as pd\n",
    "from sklearn.base import BaseEstimator, TransformerMixin\n",
    "\n",
    "class ConstantValueThresholdEliminator(BaseEstimator, TransformerMixin):\n",
    "    def __init__(self, threshold=0.9):\n",
    "        self.threshold = threshold\n",
    "        self.columns_to_drop = []\n",
    "\n",
    "    def fit(self, X, y=None):\n",
    "        # Calcular el umbral de valores constantes para cada columna\n",
    "        for column in X.columns:\n",
    "            most_frequent_value_count = X[column].value_counts().max()\n",
    "            if most_frequent_value_count / len(X) > self.threshold:\n",
    "                self.columns_to_drop.append(column)\n",
    "        return self\n",
    "\n",
    "    def transform(self, X, y=None):\n",
    "        # Eliminar las columnas que exceden el umbral de valores constantes\n",
    "        return X.drop(columns=self.columns_to_drop)\n",
    "\n",
    "    def fit_transform(self, X, y=None):\n",
    "        self.fit(X, y)\n",
    "        return self.transform(X, y)"
   ]
  },
  {
   "cell_type": "code",
   "execution_count": null,
   "id": "3519182c",
   "metadata": {},
   "outputs": [],
   "source": [
    "# Función que hace uso de la clase ConstantValueThresholdEliminator para eliminar columnas constantes\n",
    "\n",
    "def constant_elimination(train_x, test_x, threshold):\n",
    "    transformer_cte = ConstantValueThresholdEliminator(threshold=threshold)\n",
    "    transformer_cte.fit(train_x)\n",
    "    train_cte_x = transformer_cte.transform(train_x)\n",
    "    test_cte_x = transformer_cte.transform(test_x)\n",
    "    return [train_cte_x, test_cte_x]"
   ]
  },
  {
   "cell_type": "code",
   "execution_count": null,
   "id": "0c255c82",
   "metadata": {},
   "outputs": [],
   "source": [
    "# Clase que representa el transformador donde se elimina del conjunto las columnas más correlacionadas\n",
    "\n",
    "from sklearn.base import BaseEstimator, TransformerMixin\n",
    "\n",
    "class CorrelationThresholdTransformer(BaseEstimator, TransformerMixin):\n",
    "    def __init__(self, threshold=0.8):\n",
    "        self.threshold = threshold\n",
    "        self.features_to_keep_ = None\n",
    "        self.to_remove = None\n",
    "\n",
    "    def fit(self, X, y=None):\n",
    "        # Convertimos a DataFrame si no lo es\n",
    "        if not isinstance(X, pd.DataFrame):\n",
    "            X = pd.DataFrame(X)\n",
    "\n",
    "        # Calculamos la matriz de correlación\n",
    "        corr_matrix = X.corr().abs()\n",
    "\n",
    "        # Calculamos la correlación media de cada variable con el resto\n",
    "        mean_correlation = corr_matrix.mean(axis=0)\n",
    "\n",
    "        # Identificamos las variables a eliminar basadas en el umbral\n",
    "        self.to_remove = set()\n",
    "        for i in range(len(corr_matrix.columns)):\n",
    "            for j in range(i + 1, len(corr_matrix.columns)):\n",
    "                if corr_matrix.iloc[i, j] > self.threshold:\n",
    "                    if mean_correlation.iloc[i] > mean_correlation.iloc[j]:\n",
    "                        self.to_remove.add(corr_matrix.columns[i])\n",
    "                    else:\n",
    "                        self.to_remove.add(corr_matrix.columns[j])\n",
    "\n",
    "        # Guardamos las variables a mantener\n",
    "        self.features_to_keep_ = [col for col in X.columns if col not in self.to_remove]\n",
    "        return self\n",
    "    def get_removed(self):\n",
    "        return self.to_remove\n",
    "\n",
    "    def transform(self, X, y=None):\n",
    "        # Convertimos a DataFrame si no lo es\n",
    "        if not isinstance(X, pd.DataFrame):\n",
    "            X = pd.DataFrame(X)\n",
    "\n",
    "        # Retornamos el dataset con las variables seleccionadas\n",
    "        return X[self.features_to_keep_]\n",
    "\n",
    "    def get_support(self):\n",
    "        # Método para obtener las características seleccionadas\n",
    "        return self.features_to_keep_"
   ]
  },
  {
   "cell_type": "code",
   "execution_count": null,
   "id": "745383fe",
   "metadata": {},
   "outputs": [],
   "source": [
    "# Función que usa CorrelationThresholdTransformer para eliminar columnas correlacionadas\n",
    "\n",
    "def corr_elimination(train_x, test_x, threshold):\n",
    "    transformer_corr = CorrelationThresholdTransformer(threshold=threshold)\n",
    "    transformer_corr.fit(train_x)\n",
    "    train_corr_x = transformer_corr.transform(train_x)\n",
    "    test_corr_x = transformer_corr.transform(test_x)\n",
    "    #print(transformer_corr.get_removed())\n",
    "    return [train_corr_x, test_corr_x]"
   ]
  },
  {
   "cell_type": "code",
   "execution_count": null,
   "id": "f1709286",
   "metadata": {},
   "outputs": [],
   "source": [
    "# Función que usa un entrenamiento de Random Forest para seleccionar atributos poco relevantes en el entrenamiento\n",
    "\n",
    "import numpy as np\n",
    "import pandas as pd\n",
    "from sklearn.base import BaseEstimator, TransformerMixin\n",
    "\n",
    "def RelevantInformationEliminator(X, y, threshold=0.01):\n",
    "    clf = RandomForestClassifier(n_estimators=250,\n",
    "                              random_state=SEMILLA_ALEATORIEDAD)\n",
    "\n",
    "    clf.fit(X, y)\n",
    "\n",
    "    # Plot feature importance\n",
    "    feature_importance = clf.feature_importances_\n",
    "    # make importances relative to max importance\n",
    "    #feature_importance = 100.0 * (feature_importance / feature_importance.max())\n",
    "    sorted_idx = np.argsort(feature_importance)\n",
    "    \n",
    "    features_eliminated = []\n",
    "    for index in sorted_idx:\n",
    "        if feature_importance[index] < threshold:\n",
    "            features_eliminated.append(X.columns[index])\n",
    "\n",
    "    return features_eliminated"
   ]
  },
  {
   "cell_type": "code",
   "execution_count": null,
   "id": "04008157",
   "metadata": {},
   "outputs": [],
   "source": [
    "# Función que elimina los atributos poco relevantes usando la función RelevantInformationEliminator\n",
    "\n",
    "def low_relevance_elimination(train_x, train_y, test_x, threshold):\n",
    "    # Seleccionamos las columnas poco relevantes\n",
    "    features_eliminated = RelevantInformationEliminator(train_x, train_y, threshold)\n",
    "    print(features_eliminated)\n",
    "    train_rel_x = train_x.drop(columns = features_eliminated)\n",
    "    test_rel_x = test_x.drop(columns = features_eliminated)\n",
    "    return [train_rel_x, test_rel_x]"
   ]
  },
  {
   "cell_type": "code",
   "execution_count": null,
   "id": "9b0ecc21",
   "metadata": {},
   "outputs": [],
   "source": [
    "# Función que aplica PCA al conjunto de datos\n",
    "\n",
    "from sklearn.decomposition import PCA\n",
    "\n",
    "def dataset_pca(train_x, test_x, var_explicated):\n",
    "    pca = PCA(n_components = var_explicated)\n",
    "    train_pca_x = pca.fit_transform(train_x)\n",
    "    test_pca_x = pca.transform(test_x)\n",
    "\n",
    "    train_pca_x = pd.DataFrame(train_pca_x)\n",
    "    test_pca_x = pd.DataFrame(test_pca_x)\n",
    "    \n",
    "    return [train_pca_x, test_pca_x]"
   ]
  },
  {
   "cell_type": "code",
   "execution_count": null,
   "id": "f8ceb961",
   "metadata": {},
   "outputs": [],
   "source": [
    "# Función que aplica SMOTE al conjunto de datos\n",
    "\n",
    "from imblearn.over_sampling import SMOTE\n",
    "\n",
    "def dataset_smote(train_x, train_y, with_sampling_strategy, k_neighbors):\n",
    "    if with_sampling_strategy and k_neighbors != 0:\n",
    "        oversample = SMOTE(random_state=SEMILLA_ALEATORIEDAD, sampling_strategy=0.5, k_neighbors=k_neighbors)\n",
    "    elif with_sampling_strategy:\n",
    "        oversample = SMOTE(random_state=SEMILLA_ALEATORIEDAD, sampling_strategy=0.5)\n",
    "    else:\n",
    "        oversample = SMOTE(random_state=SEMILLA_ALEATORIEDAD)\n",
    "        \n",
    "    smote_x, smote_y = oversample.fit_resample(train_x, train_y)\n",
    "    return [smote_x, smote_y]"
   ]
  },
  {
   "cell_type": "code",
   "execution_count": null,
   "id": "39f65a32",
   "metadata": {},
   "outputs": [],
   "source": [
    "# Función que aplica el bloque de preprocesamiento al conjunto de datos\n",
    "\n",
    "def dataset_bloque(train_x, train_y, test_x, threshold_cte, threshold_corr,\n",
    "                  threshold_relevance):\n",
    "    train_cte_x, test_cte_x = constant_elimination(train_x, test_x, threshold_cte)\n",
    "    \n",
    "    train_corr_cte_x, test_corr_cte_x = corr_elimination(train_cte_x, test_cte_x, threshold_corr)\n",
    "    \n",
    "    train_bloque_x, test_bloque_x = low_relevance_elimination(train_corr_cte_x, train_y, test_corr_cte_x, threshold_relevance)\n",
    "    \n",
    "    return [train_bloque_x, test_bloque_x]"
   ]
  },
  {
   "cell_type": "code",
   "execution_count": null,
   "id": "5b2805bc",
   "metadata": {},
   "outputs": [],
   "source": [
    "# Función que crea la lista de conjuntos de datos con preprocesamientos distintos\n",
    "\n",
    "def conjuntos_preprocesamiento(train_x, test_x, train_y, test_y,\n",
    "                              with_smote=False, sampling_strategy = False, k_neighbors = 0):\n",
    "    conjuntos = []\n",
    "    \n",
    "    trainScaled_x, testScaled_x = std_Scaler_data(train_x, test_x)\n",
    "    conjuntos.append([\"std\", trainScaled_x, train_y, testScaled_x, test_y])\n",
    "    \n",
    "    \n",
    "    trainQT_x, testQT_x = qt_Transformer_data(train_x, test_x)\n",
    "    conjuntos.append([\"qt\", trainQT_x, train_y, testQT_x, test_y])\n",
    "    \n",
    "    if with_smote:\n",
    "        smote_std_x, smote_std_y = dataset_smote(trainScaled_x, train_y, sampling_strategy, k_neighbors)\n",
    "        conjuntos.append([\"std_smote\", smote_std_x, smote_std_y, testScaled_x, test_y])\n",
    "        \n",
    "        smote_qt_x, smote_qt_y = dataset_smote(trainQT_x, train_y, sampling_strategy, k_neighbors)\n",
    "        conjuntos.append([\"qt_smote\", smote_qt_x, smote_qt_y, testQT_x, test_y])\n",
    "        \n",
    "    \n",
    "    return conjuntos"
   ]
  },
  {
   "cell_type": "code",
   "execution_count": null,
   "id": "eb3b85f5",
   "metadata": {},
   "outputs": [],
   "source": [
    "# Función que establece los algoritmos de aprendizaje supervisado a usar\n",
    "\n",
    "# Spot-Check Algorithms\n",
    "def ImbGetBasedModelDef():\n",
    "    basedModels = []\n",
    "    # Lineales (estoy pensando en usar LR en lugar de esta)\n",
    "    basedModels.append(('LDA'  , LinearDiscriminantAnalysis()))\n",
    "    # No lineales\n",
    "    basedModels.append(('SVM'  , SVC(probability=True, class_weight='balanced')))\n",
    "    # Ensamblados\n",
    "    basedModels.append(('RF'   , RandomForestClassifier(class_weight='balanced')))\n",
    "    basedModels.append(('GBM'  , GradientBoostingClassifier()))\n",
    "    \n",
    "    return basedModels"
   ]
  },
  {
   "cell_type": "code",
   "execution_count": null,
   "id": "c3b765a0",
   "metadata": {},
   "outputs": [],
   "source": [
    "# Función que aplica el bucle general de selección de modelos a partir de una búsqueda de hiperparámetros, para cada combinación\n",
    "# de algoritmo y preprocesado\n",
    "\n",
    "from sklearn import metrics\n",
    "\n",
    "# El scoring por defecto es roc-auc, pero en clases desbalanceadas deberemos poner \"average_precision\"\n",
    "def bucle_proceso_general(conjuntos,  grids, scoring = \"roc_auc\"):\n",
    "    resultados = pd.DataFrame(columns = [\"modelo\", \"conjunto\", \"accuracy\", \"precision\", \"recall\", \"f1\", \"AUC-ROC\",\"AP/PR-AUC\"])\n",
    "    \n",
    "    # Todo lo que nos aporta información sobre la predicción\n",
    "    best_models = []\n",
    "    best_hyperparams = []\n",
    "    matrices_confusion = []\n",
    "    y_pred_list = []\n",
    "    y_pred_proba_list = []\n",
    "    \n",
    "    imbModels = ImbGetBasedModelDef()\n",
    "    \n",
    "    i = 0\n",
    "    for model_name, model in imbModels:\n",
    "        for cjto_name, x_train, y_train, x_test, y_test in conjuntos:\n",
    "\n",
    "            grid_search = GridSearchCV(model, scoring=scoring, n_jobs= -1, verbose = 1, param_grid=grids[i], cv=5)\n",
    "            grid_search.fit(x_train, y_train)\n",
    "            \n",
    "            best_model = grid_search.best_estimator_\n",
    "            best_models.append([model_name+\"-\"+cjto_name, best_model])\n",
    "            \n",
    "            best_params = grid_search.best_params_\n",
    "            best_hyperparams.append([model_name+\"-\"+cjto_name, best_params])\n",
    "\n",
    "            y_pred = best_model.predict(x_test)\n",
    "            y_pred_list.append([model_name+\"-\"+cjto_name, y_pred])\n",
    "            \n",
    "            y_pred_proba = best_model.predict_proba(x_test)[:,-1]\n",
    "            y_pred_proba_list.append([model_name+\"-\"+cjto_name, y_pred_proba])\n",
    "\n",
    "            print(model_name + \" \" + cjto_name)\n",
    "            print()\n",
    "            \n",
    "            cm =metrics.confusion_matrix(y_test, y_pred)\n",
    "            print(cm)\n",
    "            \n",
    "            matrices_confusion.append([model_name+\"-\"+cjto_name, cm])\n",
    "            print(metrics.classification_report(y_test,y_pred))\n",
    "\n",
    "            roc_auc = metrics.roc_auc_score(y_test, y_pred_proba)\n",
    "            print(\"ROC-AUC\", round(roc_auc, 4))\n",
    "            \n",
    "            average_precision = metrics.average_precision_score(y_test, y_pred_proba)\n",
    "            print(\"AP/PR-AUC: \",round(average_precision,4))\n",
    "\n",
    "            # Calcular las métricas de rendimiento\n",
    "            accuracy = metrics.accuracy_score(y_test, y_pred)\n",
    "            precision = metrics.precision_score(y_test, y_pred)\n",
    "            recall = metrics.recall_score(y_test, y_pred)\n",
    "            f1 = metrics.f1_score(y_test, y_pred)\n",
    "            resultados.loc[len(resultados.index)] = [model_name, cjto_name, accuracy, precision, recall, f1, roc_auc, average_precision]\n",
    "\n",
    "        i+=1\n",
    "        \n",
    "    return [resultados, best_models, best_hyperparams, matrices_confusion, y_pred_list, y_pred_proba_list]"
   ]
  },
  {
   "cell_type": "code",
   "execution_count": null,
   "id": "e8a5ba45",
   "metadata": {},
   "outputs": [],
   "source": [
    "# Función auxiliar que nos ayuda a encontrar el mejor modelo de la lista de modelos devuelta por el proceso de la función bucle_proceso_general\n",
    "\n",
    "# nombre_buscado es el nombre de la mejor combinacion de preprocesado y algoritmo que buscamos en la\n",
    "# lista de mejores modelos para cada combinación\n",
    "def busca_tupla_nombre(nombre_buscado, best_models):\n",
    "    tupla = None\n",
    "    for nombre, params in best_hyperparams:\n",
    "        if nombre == nombre_buscado:\n",
    "            tupla = (nombre, params)\n",
    "            break\n",
    "    return tupla"
   ]
  },
  {
   "cell_type": "code",
   "execution_count": null,
   "id": "1eccd7ef",
   "metadata": {},
   "outputs": [],
   "source": [
    "# Función que devuelve el mejor resultado de la lista de resultados de la función bucle_proceso_general\n",
    "\n",
    "# resultados es el dataframe con todos los resultados de cada combinación de preprocesado y algoritmo\n",
    "# scoring es la columna que comparamos para sacar el mejor\n",
    "def mejor_resultado(resultados, scoring):\n",
    "    idx_max = resultados[scoring].idxmax()\n",
    "    fila_max = resultados.loc[idx_max]\n",
    "    print(fila_max)\n",
    "    nombre_buscado = fila_max['modelo']+\"-\"+fila_max['conjunto']\n",
    "    print(nombre_buscado)\n",
    "    return [fila_max, nombre_buscado]"
   ]
  },
  {
   "cell_type": "code",
   "execution_count": null,
   "id": "63e106b7",
   "metadata": {},
   "outputs": [],
   "source": [
    "# Función que guarda de la lista de elementos obtenidos por la función bucle_proceso_general, aquel que nos haya dado los mejores resultados\n",
    "\n",
    "\n",
    "def save_best(lista, file, nombre_buscado):\n",
    "    tupla = None\n",
    "    for nombre, elemento in lista:\n",
    "        if nombre == nombre_buscado:\n",
    "            tupla = (nombre, elemento)\n",
    "            break\n",
    "\n",
    "    joblib.dump(tupla, file)\n",
    "    return tupla"
   ]
  },
  {
   "cell_type": "code",
   "execution_count": null,
   "id": "1dca7b66",
   "metadata": {},
   "outputs": [],
   "source": [
    "def find_element(nombre, lista):\n",
    "    for nombre_element, element in lista:\n",
    "        if nombre_element == nombre:\n",
    "            element_return = element\n",
    "            break\n",
    "    return element_return"
   ]
  },
  {
   "cell_type": "code",
   "execution_count": null,
   "id": "d4311373",
   "metadata": {},
   "outputs": [],
   "source": [
    "def find_preproc(nombre, conjunto):\n",
    "    for nombre_aux, train_x, train_y, test_x, test_y in conjunto:\n",
    "        print(nombre_aux)\n",
    "        if nombre == nombre_aux:\n",
    "            tupla = [nombre_aux, train_x, train_y, test_x, test_y]\n",
    "            break\n",
    "    return tupla"
   ]
  },
  {
   "cell_type": "code",
   "execution_count": null,
   "id": "cd5fdfb1",
   "metadata": {},
   "outputs": [],
   "source": [
    "# Función que devuelve las medidas de desempeño a partir de un modelo Dummy, que depende del parámetros strategy\n",
    "\n",
    "from sklearn.dummy import DummyClassifier\n",
    "\n",
    "def DummyResults(train_x, train_y, test_x, test_y, strategy=\"most_frequent\"):\n",
    "    # Crear el modelo dummy\n",
    "    dummy_clf = DummyClassifier(strategy=strategy)\n",
    "\n",
    "    dummy_clf.fit(train_x, train_y)\n",
    "\n",
    "    # Hacer predicciones con el modelo dummy\n",
    "    y_pred_dummy = dummy_clf.predict(test_x)\n",
    "    y_pred_proba_dummy = dummy_clf.predict_proba(test_x)[:,-1]\n",
    "    cm =metrics.confusion_matrix(test_y, y_pred_dummy)\n",
    "    print(cm)\n",
    "\n",
    "    print(metrics.classification_report(test_y,y_pred_dummy))\n",
    "    \n",
    "    # Calcular métricas de rendimiento\n",
    "    f1 = metrics.f1_score(test_y, y_pred_dummy)\n",
    "    accuracy = metrics.accuracy_score(test_y, y_pred_dummy)\n",
    "    precision = metrics.precision_score(test_y, y_pred_dummy)\n",
    "    recall = metrics.recall_score(test_y, y_pred_dummy)\n",
    "\n",
    "    print(f\"F1 Score: {f1}\")\n",
    "    print(f\"Accuracy: {accuracy}\")\n",
    "    print(f\"Precision: {precision}\")\n",
    "    print(f\"Recall: {recall}\")\n",
    "\n",
    "    roc_auc = metrics.roc_auc_score(test_y, y_pred_proba_dummy)\n",
    "    print(\"ROC-AUC\", round(roc_auc, 4))\n",
    "    \n",
    "    average_precision = metrics.average_precision_score(test_y, y_pred_proba_dummy)\n",
    "    print(\"AP/PR-AUC: \",round(average_precision,4))"
   ]
  },
  {
   "cell_type": "markdown",
   "id": "6158d1ab",
   "metadata": {},
   "source": [
    "Para obtener el dataset con los datos para la replicación de los experimentos, consultar el README del repositorio."
   ]
  },
  {
   "cell_type": "code",
   "execution_count": null,
   "id": "b0a827ac",
   "metadata": {},
   "outputs": [],
   "source": [
    "DATASET_FLICKR =\n",
    "DATASET_IG = \n",
    "DATASET_FLICKR_IG ="
   ]
  },
  {
   "cell_type": "markdown",
   "id": "a78b6d5e",
   "metadata": {},
   "source": [
    "Grid de hiperparámetros a utilizar"
   ]
  },
  {
   "cell_type": "code",
   "execution_count": null,
   "id": "b5c06dd2",
   "metadata": {},
   "outputs": [],
   "source": [
    "grids = [\n",
    "    {# LDA\n",
    "        'solver' : ['svd', 'lsqr'],\n",
    "        'n_components' : [None] + [1, 2, 5, 8, 13, 21, 34, 55],\n",
    "        'store_covariance' : [True, False],\n",
    "        'tol' : [1e-2, 1e-3, 1e-5, 1e-7, 1e-9, 1e-11]\n",
    "    },\n",
    "    {# SVM\n",
    "        'C': [1,10,100,1000],\n",
    "        'gamma': [1,0.1,0.001,0.0001], \n",
    "        'kernel': ['linear','rbf']\n",
    "    },\n",
    "    {# RF\n",
    "        'bootstrap': [True, False],\n",
    "         'max_depth': [10, 50, 100, None],\n",
    "         'max_features': ['auto', 'sqrt'],\n",
    "        'criterion' :['gini', 'entropy'],\n",
    "         'n_estimators': [200, 400, 600, 800]\n",
    "    },\n",
    "    {# GBM\n",
    "        'n_estimators': [100, 200, 500],  # Número de árboles\n",
    "        'learning_rate': [0.01, 0.1],  # Tasa de aprendizaje\n",
    "        'max_depth': [3, 5, 7],  # Profundidad máxima de los árboles\n",
    "        'max_features': ['auto', 'sqrt', 'log2']  # Fracción de características consideradas para dividir en cada nodo\n",
    "\n",
    "    }\n",
    "]"
   ]
  },
  {
   "cell_type": "markdown",
   "id": "5f83e935",
   "metadata": {},
   "source": [
    "# Flickr"
   ]
  },
  {
   "cell_type": "code",
   "execution_count": null,
   "id": "4813127d",
   "metadata": {},
   "outputs": [],
   "source": [
    "df_flickr = pd.read_csv(DATASET_FLICKR)\n",
    "train_flickr_x, train_flickr_y, test_flickr_x, test_flickr_y = data_partition(df_flickr, 0.3, 'is_photographer')"
   ]
  },
  {
   "cell_type": "code",
   "execution_count": null,
   "id": "ef033d1b",
   "metadata": {},
   "outputs": [],
   "source": [
    "conjuntos_flickr = conjuntos_preprocesamiento(train_flickr_x, test_flickr_x, train_flickr_y, test_flickr_y,\n",
    "                              with_smote=True)\n",
    "len(conjuntos_flickr)"
   ]
  },
  {
   "cell_type": "code",
   "execution_count": null,
   "id": "7be9a123",
   "metadata": {},
   "outputs": [],
   "source": [
    "import os\n",
    "\n",
    "if (not os.path.exists(f\"resultados_flickr.csv\")):\n",
    "    resultados_flickr, best_models_flickr, best_hyperparams_flickr, matrices_confusion_flickr, y_pred_list_flickr, y_pred_proba_list_flickr = bucle_proceso_general(conjuntos_flickr,  grids, scoring = \"average_precision\")\n",
    "    resultados_flickr.to_csv(\"resultados_flickr.csv\", index = False)\n",
    "    \n",
    "    fila_flickr, nombre_flickr = mejor_resultado(resultados_flickr, \"AP/PR-AUC\")\n",
    "    \n",
    "    best_model_flickr = save_best(best_models_flickr, 'mejor_modelo_flickr.joblib', nombre_flickr)\n",
    "    best_params_flickr = save_best(best_hyperparams_flickr, 'mejor_params_flickr.joblib', nombre_flickr)\n",
    "    best_matrix_flickr = save_best(matrices_confusion_flickr, 'mejor_matrix_flickr.joblib', nombre_flickr)\n",
    "    best_ypred_flickr = save_best(y_pred_list_flickr, 'mejor_ypred_flickr.joblib', nombre_flickr)\n",
    "    best_ypred_proba_flickr = save_best(y_pred_proba_list_flickr, 'mejor_ypred_proba_flickr.joblib', nombre_flickr)\n",
    "else:\n",
    "    resultados_flickr = pd.read_csv(\"resultados_flickr.csv\")\n",
    "    \n",
    "    fila_flickr, nombre_flickr = mejor_resultado(resultados_flickr, \"AP/PR-AUC\")\n",
    "    \n",
    "    best_model_flickr = joblib.load('mejor_modelo_flickr.joblib')\n",
    "    best_params_flickr = joblib.load('mejor_params_flickr.joblib')\n",
    "    best_matrix_flickr = joblib.load('mejor_matrix_flickr.joblib')\n",
    "    best_ypred_flickr = joblib.load('mejor_ypred_flickr.joblib')\n",
    "    best_ypred_proba_flickr = joblib.load('mejor_ypred_proba_flickr.joblib')"
   ]
  },
  {
   "cell_type": "code",
   "execution_count": null,
   "id": "84529d8f",
   "metadata": {},
   "outputs": [],
   "source": [
    "resultados_flickr"
   ]
  },
  {
   "cell_type": "markdown",
   "id": "bf54f9cd",
   "metadata": {},
   "source": [
    "## Desempate"
   ]
  },
  {
   "cell_type": "markdown",
   "id": "3c029a90",
   "metadata": {},
   "source": [
    "Hemos obtenido dos modelos con rendimientos muy parecidos en el proceso anterior, analizando las otras métricas, nos quedamos con aquel que mejor F1 ha obtenido, es decir, el que aplica algoritmo LDA con el preprocesado QT+SMOTE"
   ]
  },
  {
   "cell_type": "code",
   "execution_count": null,
   "id": "28bbb034",
   "metadata": {},
   "outputs": [],
   "source": [
    "for nombre, train_aux_x, train_aux_y,test_aux_x, test_aux_y in conjuntos_flickr:\n",
    "    if nombre == \"qt_smote\":\n",
    "        tupla_aux = [nombre, train_aux_x, train_aux_y,test_aux_x, test_aux_y]\n",
    "        break\n",
    "tupla_aux[0]"
   ]
  },
  {
   "cell_type": "code",
   "execution_count": null,
   "id": "eee6c802",
   "metadata": {},
   "outputs": [],
   "source": [
    "for nombre, model in best_models_flickr:\n",
    "    if nombre == \"LDA-qt_smote\":\n",
    "        model_aux = model\n",
    "        break\n",
    "model_aux"
   ]
  },
  {
   "cell_type": "code",
   "execution_count": null,
   "id": "5a6e2905",
   "metadata": {},
   "outputs": [],
   "source": [
    "filas_aux = [0.774, 0.545, 0.75, 0.632, 0.845, 0.644]"
   ]
  },
  {
   "cell_type": "code",
   "execution_count": null,
   "id": "a3a17b75",
   "metadata": {},
   "outputs": [],
   "source": [
    "filas_aux = resultados_flickr.loc[(resultados_flickr['modelo'] == \"LDA\") & (resultados_flickr['conjunto'] == \"qt_smote\")]\n",
    "filas_aux = filas_aux.values.tolist()\n",
    "filas_aux = [item for sublist in filas_aux for item in sublist]\n",
    "filas_aux"
   ]
  },
  {
   "cell_type": "code",
   "execution_count": null,
   "id": "acf6fa17",
   "metadata": {},
   "outputs": [],
   "source": [
    "show_bars_metrics(filas_aux[2:8], \"Medidas de Desempeño para Caso Flickr\")"
   ]
  },
  {
   "cell_type": "code",
   "execution_count": null,
   "id": "756030a5",
   "metadata": {},
   "outputs": [],
   "source": [
    "for nombre, y_pred in y_pred_list_flickr:\n",
    "    if nombre == \"LDA-qt_smote\":\n",
    "        y_pred_aux = y_pred\n",
    "        break\n",
    "y_pred_aux"
   ]
  },
  {
   "cell_type": "code",
   "execution_count": null,
   "id": "a90c88b3",
   "metadata": {},
   "outputs": [],
   "source": [
    "for nombre, y_pred_proba in y_pred_proba_list_flickr:\n",
    "    if nombre == \"LDA-qt_smote\":\n",
    "        y_pred_proba_aux = y_pred_proba\n",
    "        break\n",
    "y_pred_proba_aux"
   ]
  },
  {
   "cell_type": "code",
   "execution_count": null,
   "id": "de974a10",
   "metadata": {},
   "outputs": [],
   "source": [
    "matrix_confusion_pred(test_flickr_y, y_pred_aux)"
   ]
  },
  {
   "cell_type": "code",
   "execution_count": null,
   "id": "2dd7637c",
   "metadata": {},
   "outputs": [],
   "source": [
    "threshold_flickr = pr_auc(test_flickr_y, y_pred_proba_aux)"
   ]
  },
  {
   "cell_type": "markdown",
   "id": "db5924a6",
   "metadata": {},
   "source": [
    "## Continuación"
   ]
  },
  {
   "cell_type": "code",
   "execution_count": null,
   "id": "73c0778d",
   "metadata": {},
   "outputs": [],
   "source": [
    "fila_flickr"
   ]
  },
  {
   "cell_type": "code",
   "execution_count": null,
   "id": "dd161a97",
   "metadata": {},
   "outputs": [],
   "source": [
    "show_bars_metrics(fila_flickr.values[2:8], \"Medidas de Desempeño para Caso Flickr\")"
   ]
  },
  {
   "cell_type": "code",
   "execution_count": null,
   "id": "b36fd5bb",
   "metadata": {},
   "outputs": [],
   "source": [
    "matrix_confusion_pred(test_flickr_y, best_ypred_flickr[1])"
   ]
  },
  {
   "cell_type": "code",
   "execution_count": null,
   "id": "b9ea13f3",
   "metadata": {},
   "outputs": [],
   "source": [
    "y_pred_proba_flickr = best_ypred_proba_flickr[1]"
   ]
  },
  {
   "cell_type": "code",
   "execution_count": null,
   "id": "9cb6606b",
   "metadata": {},
   "outputs": [],
   "source": [
    "roc_auc(test_flickr_y, y_pred_proba_flickr)"
   ]
  },
  {
   "cell_type": "code",
   "execution_count": null,
   "id": "890828be",
   "metadata": {},
   "outputs": [],
   "source": [
    "threshold_flickr = pr_auc(test_flickr_y, y_pred_proba_flickr)"
   ]
  },
  {
   "cell_type": "code",
   "execution_count": null,
   "id": "46066851",
   "metadata": {},
   "outputs": [],
   "source": [
    "# Convertir probabilidades a etiquetas binarias usando el umbral\n",
    "y_pred_threshold = (y_pred_proba_flickr >= threshold_flickr).astype(int)\n",
    "\n",
    "# Calcular métricas de rendimiento\n",
    "f1 = metrics.f1_score(test_flickr_y, y_pred_threshold)\n",
    "accuracy = metrics.accuracy_score(test_flickr_y, y_pred_threshold)\n",
    "precision = metrics.precision_score(test_flickr_y, y_pred_threshold)\n",
    "recall = metrics.recall_score(test_flickr_y, y_pred_threshold)\n",
    "\n",
    "cm =metrics.confusion_matrix(test_flickr_y, y_pred_threshold)\n",
    "print(cm)\n",
    "\n",
    "print(f\"F1 Score: {f1}\")\n",
    "print(f\"Accuracy: {accuracy}\")\n",
    "print(f\"Precision: {precision}\")\n",
    "print(f\"Recall: {recall}\")"
   ]
  },
  {
   "cell_type": "markdown",
   "id": "b0f2430e",
   "metadata": {},
   "source": [
    "# Instagram"
   ]
  },
  {
   "cell_type": "code",
   "execution_count": null,
   "id": "d88379ef",
   "metadata": {},
   "outputs": [],
   "source": [
    "df_ig = pd.read_csv(DATASET_IG)\n",
    "train_ig_x, train_ig_y, test_ig_x, test_ig_y = data_partition(df_ig, 0.3, 'is_photographer')"
   ]
  },
  {
   "cell_type": "code",
   "execution_count": null,
   "id": "57b79ed0",
   "metadata": {},
   "outputs": [],
   "source": [
    "conjuntos_ig = conjuntos_preprocesamiento(train_ig_x, test_ig_x, train_ig_y, test_ig_y,\n",
    "                              with_smote=True)\n",
    "len(conjuntos_ig)"
   ]
  },
  {
   "cell_type": "code",
   "execution_count": null,
   "id": "7703f47b",
   "metadata": {},
   "outputs": [],
   "source": [
    "import os\n",
    "\n",
    "if (not os.path.exists(f\"resultados_ig.csv\")):\n",
    "    resultados_ig, best_models_ig, best_hyperparams_ig, matrices_confusion_ig, y_pred_list_ig, y_pred_proba_list_ig = bucle_proceso_general(conjuntos_ig,  grids, scoring = \"average_precision\")\n",
    "    resultados_ig.to_csv(\"resultados_ig.csv\", index = False)\n",
    "    \n",
    "    fila_ig, nombre_ig = mejor_resultado(resultados_ig, \"AP/PR-AUC\")\n",
    "    \n",
    "    best_model_ig = save_best(best_models_ig, 'mejor_modelo_ig.joblib', nombre_ig)\n",
    "    best_params_ig = save_best(best_hyperparams_ig, 'mejor_params_ig.joblib', nombre_ig)\n",
    "    best_matrix_ig = save_best(matrices_confusion_ig, 'mejor_matrix_ig.joblib', nombre_ig)\n",
    "    best_ypred_ig= save_best(y_pred_list_ig, 'mejor_ypred_ig.joblib', nombre_ig)\n",
    "    best_ypred_proba_ig = save_best(y_pred_proba_list_ig, 'mejor_ypred_proba_ig.joblib', nombre_ig)\n",
    "else:\n",
    "    resultados_ig = pd.read_csv(\"resultados_ig.csv\")\n",
    "    \n",
    "    fila_ig, nombre_ig = mejor_resultado(resultados_ig, \"AP/PR-AUC\")\n",
    "    \n",
    "    best_model_ig = joblib.load('mejor_modelo_ig.joblib')\n",
    "    best_params_ig = joblib.load('mejor_params_ig.joblib')\n",
    "    best_matrix_ig = joblib.load('mejor_matrix_ig.joblib')\n",
    "    best_ypred_ig = joblib.load('mejor_ypred_ig.joblib')\n",
    "    best_ypred_proba_ig= joblib.load('mejor_ypred_proba_ig.joblib')"
   ]
  },
  {
   "cell_type": "code",
   "execution_count": null,
   "id": "df5b6f2b",
   "metadata": {},
   "outputs": [],
   "source": [
    "resultados_ig"
   ]
  },
  {
   "cell_type": "code",
   "execution_count": null,
   "id": "3c28ff84",
   "metadata": {},
   "outputs": [],
   "source": [
    "fila_ig"
   ]
  },
  {
   "cell_type": "code",
   "execution_count": null,
   "id": "a46dcbf8",
   "metadata": {},
   "outputs": [],
   "source": [
    "show_bars_metrics(fila_ig.values[2:8], \"Medidas de Desempeño para Caso Instagram\")"
   ]
  },
  {
   "cell_type": "code",
   "execution_count": null,
   "id": "62e732be",
   "metadata": {},
   "outputs": [],
   "source": [
    "matrix_confusion_pred(test_ig_y, best_ypred_ig[1])"
   ]
  },
  {
   "cell_type": "code",
   "execution_count": null,
   "id": "e8cf2e32",
   "metadata": {},
   "outputs": [],
   "source": [
    "y_pred_proba_ig = best_ypred_proba_ig[1]"
   ]
  },
  {
   "cell_type": "code",
   "execution_count": null,
   "id": "b380d790",
   "metadata": {},
   "outputs": [],
   "source": [
    "roc_auc(test_ig_y, y_pred_proba_ig)"
   ]
  },
  {
   "cell_type": "code",
   "execution_count": null,
   "id": "466f1110",
   "metadata": {},
   "outputs": [],
   "source": [
    "threshold_ig = pr_auc(test_ig_y, y_pred_proba_ig)"
   ]
  },
  {
   "cell_type": "code",
   "execution_count": null,
   "id": "5c98b92d",
   "metadata": {},
   "outputs": [],
   "source": [
    "# Convertir probabilidades a etiquetas binarias usando el umbral\n",
    "y_pred_threshold = (y_pred_proba_ig >= threshold_ig).astype(int)\n",
    "\n",
    "# Calcular métricas de rendimiento\n",
    "f1 = metrics.f1_score(test_ig_y, y_pred_threshold)\n",
    "accuracy = metrics.accuracy_score(test_ig_y, y_pred_threshold)\n",
    "precision = metrics.precision_score(test_ig_y, y_pred_threshold)\n",
    "recall = metrics.recall_score(test_ig_y, y_pred_threshold)\n",
    "\n",
    "cm =metrics.confusion_matrix(test_ig_y, y_pred_threshold)\n",
    "print(cm)\n",
    "\n",
    "print(f\"F1 Score: {f1}\")\n",
    "print(f\"Accuracy: {accuracy}\")\n",
    "print(f\"Precision: {precision}\")\n",
    "print(f\"Recall: {recall}\")"
   ]
  },
  {
   "cell_type": "markdown",
   "id": "3850bf88",
   "metadata": {},
   "source": [
    "# Flickr + Instagram"
   ]
  },
  {
   "cell_type": "code",
   "execution_count": null,
   "id": "024fbd9e",
   "metadata": {},
   "outputs": [],
   "source": [
    "df_igflickr = pd.read_csv(DATASET_FLICK_IG)\n",
    "train_igflickr_x, train_igflickr_y, test_igflickr_x, test_igflickr_y = data_partition(df_igflickr, 0.3, 'is_photographer')"
   ]
  },
  {
   "cell_type": "code",
   "execution_count": null,
   "id": "41cbdc2d",
   "metadata": {},
   "outputs": [],
   "source": [
    "conjuntos_igflickr = conjuntos_preprocesamiento(train_igflickr_x, test_igflickr_x, train_igflickr_y, test_igflickr_y,\n",
    "                              with_smote=True)\n",
    "len(conjuntos_igflickr)"
   ]
  },
  {
   "cell_type": "code",
   "execution_count": null,
   "id": "ea7f5d6e",
   "metadata": {},
   "outputs": [],
   "source": [
    "import os\n",
    "\n",
    "if (not os.path.exists(f\"resultados_igflickr.csv\")):\n",
    "    resultados_igflickr, best_models_igflickr, best_hyperparams_igflickr, matrices_confusion_igflickr, y_pred_list_igflickr, y_pred_proba_list_igflickr = bucle_proceso_general(conjuntos_igflickr,  grids, scoring = \"average_precision\")\n",
    "    resultados_igflickr.to_csv(\"resultados_igflickr.csv\", index = False)\n",
    "    \n",
    "    fila_igflickr, nombre_igflickr = mejor_resultado(resultados_igflickr, \"AP/PR-AUC\")\n",
    "    \n",
    "    best_model_igflickr = save_best(best_models_igflickr, 'mejor_modelo_igflickr.joblib', nombre_igflickr)\n",
    "    best_params_igflickr = save_best(best_hyperparams_igflickr, 'mejor_params_igflickr.joblib', nombre_igflickr)\n",
    "    best_matrix_igflickr = save_best(matrices_confusion_igflickr, 'mejor_matrix_igflickr.joblib', nombre_igflickr)\n",
    "    best_ypred_igflickr = save_best(y_pred_list_igflickr, 'mejor_ypred_igflickr.joblib', nombre_igflickr)\n",
    "    best_ypred_proba_igflickr = save_best(y_pred_proba_list_igflickr, 'mejor_ypred_proba_igflickr.joblib', nombre_igflickr)\n",
    "else:\n",
    "    resultados_igflickr = pd.read_csv(\"resultados_igflickr.csv\")\n",
    "    \n",
    "    fila_igflickr, nombre_igflickr = mejor_resultado(resultados_igflickr, \"AP/PR-AUC\")\n",
    "    \n",
    "    best_model_igflickr = joblib.load('mejor_modelo_igflickr.joblib')\n",
    "    best_params_igflickr = joblib.load('mejor_params_igflickr.joblib')\n",
    "    best_matrix_igflickr = joblib.load('mejor_matrix_igflickr.joblib')\n",
    "    best_ypred_igflickr = joblib.load('mejor_ypred_igflickr.joblib')\n",
    "    best_ypred_proba_igflickr = joblib.load('mejor_ypred_proba_igflickr.joblib')\n",
    "    "
   ]
  },
  {
   "cell_type": "code",
   "execution_count": null,
   "id": "8ad6f1ba",
   "metadata": {},
   "outputs": [],
   "source": [
    "resultados_igflickr"
   ]
  },
  {
   "cell_type": "code",
   "execution_count": null,
   "id": "f33a5e94",
   "metadata": {},
   "outputs": [],
   "source": [
    "fila_igflickr"
   ]
  },
  {
   "cell_type": "code",
   "execution_count": null,
   "id": "c4807dc4",
   "metadata": {},
   "outputs": [],
   "source": [
    "show_bars_metrics(fila_igflickr.values[2:8], \"Caso Flickr+Instagram\")"
   ]
  },
  {
   "cell_type": "code",
   "execution_count": null,
   "id": "a951cc87",
   "metadata": {},
   "outputs": [],
   "source": [
    "matrix_confusion_pred(test_igflickr_y, best_ypred_igflickr[1])"
   ]
  },
  {
   "cell_type": "code",
   "execution_count": null,
   "id": "5e830014",
   "metadata": {},
   "outputs": [],
   "source": [
    "y_pred_proba_igflickr = best_ypred_proba_igflickr[1]"
   ]
  },
  {
   "cell_type": "code",
   "execution_count": null,
   "id": "88d3aead",
   "metadata": {},
   "outputs": [],
   "source": [
    "roc_auc(test_igflickr_y, y_pred_proba_igflickr)"
   ]
  },
  {
   "cell_type": "code",
   "execution_count": null,
   "id": "95aa3bc7",
   "metadata": {},
   "outputs": [],
   "source": [
    "threshold_igflickr = pr_auc(test_igflickr_y, y_pred_proba_igflickr)"
   ]
  },
  {
   "cell_type": "code",
   "execution_count": null,
   "id": "98af24bf",
   "metadata": {},
   "outputs": [],
   "source": [
    "# Convertir probabilidades a etiquetas binarias usando el umbral\n",
    "y_pred_threshold = (y_pred_proba_igflickr >= threshold_igflickr).astype(int)\n",
    "\n",
    "# Calcular métricas de rendimiento\n",
    "f1 = metrics.f1_score(test_igflickr_y, y_pred_threshold)\n",
    "accuracy = metrics.accuracy_score(test_igflickr_y, y_pred_threshold)\n",
    "precision = metrics.precision_score(test_igflickr_y, y_pred_threshold)\n",
    "recall = metrics.recall_score(test_igflickr_y, y_pred_threshold)\n",
    "\n",
    "cm =metrics.confusion_matrix(test_igflickr_y, y_pred_threshold)\n",
    "print(cm)\n",
    "\n",
    "print(f\"F1 Score: {f1}\")\n",
    "print(f\"Accuracy: {accuracy}\")\n",
    "print(f\"Precision: {precision}\")\n",
    "print(f\"Recall: {recall}\")"
   ]
  },
  {
   "cell_type": "markdown",
   "id": "5d637324",
   "metadata": {},
   "source": [
    "# Modelo Instagram con Datos Flickr"
   ]
  },
  {
   "cell_type": "code",
   "execution_count": null,
   "id": "2fe3b836",
   "metadata": {},
   "outputs": [],
   "source": [
    "fila_ig"
   ]
  },
  {
   "cell_type": "code",
   "execution_count": null,
   "id": "266c5f1b",
   "metadata": {},
   "outputs": [],
   "source": [
    "nombre_ig"
   ]
  },
  {
   "cell_type": "code",
   "execution_count": null,
   "id": "00ecc752",
   "metadata": {},
   "outputs": [],
   "source": [
    "flickr_x = df_flickr.loc[:, df_flickr.columns != 'is_photographer']\n",
    "flickr_y = df_flickr.loc[:, 'is_photographer']\n",
    "\n",
    "scaler = StandardScaler()\n",
    "scaler.fit(flickr_x)\n",
    "flickrScaled_x = pd.DataFrame(scaler.transform(flickr_x), columns=flickr_x.columns, index=flickr_x.index)"
   ]
  },
  {
   "cell_type": "code",
   "execution_count": null,
   "id": "da3fe2b8",
   "metadata": {},
   "outputs": [],
   "source": [
    "y_pred1 = best_model_ig[1].predict(flickrScaled_x)\n",
    "cm1 = confusion_matrix(flickr_y, y_pred1)\n",
    "cm1"
   ]
  },
  {
   "cell_type": "code",
   "execution_count": null,
   "id": "da3f6296",
   "metadata": {},
   "outputs": [],
   "source": [
    "matrix_confusion_pred(flickr_y, y_pred1)"
   ]
  },
  {
   "cell_type": "code",
   "execution_count": null,
   "id": "2a9e3901",
   "metadata": {},
   "outputs": [],
   "source": [
    "y_pred_proba1 = best_model_ig[1].predict_proba(flickr_x)[:,-1]\n",
    "roc_auc1 = metrics.roc_auc_score(flickr_y, y_pred_proba1)\n",
    "print(\"ROC-AUC\", round(roc_auc1, 4))\n",
    "            \n",
    "average_precision1 = metrics.average_precision_score(flickr_y, y_pred_proba1)\n",
    "print(\"AP/PR-AUC: \",round(average_precision1,4))\n",
    "\n",
    "# Calcular las métricas de rendimiento\n",
    "accuracy = metrics.accuracy_score(flickr_y, y_pred1)\n",
    "precision = metrics.precision_score(flickr_y, y_pred1)\n",
    "recall = metrics.recall_score(flickr_y, y_pred1)\n",
    "f1 = metrics.f1_score(flickr_y, y_pred1)"
   ]
  },
  {
   "cell_type": "code",
   "execution_count": null,
   "id": "49697e9d",
   "metadata": {},
   "outputs": [],
   "source": [
    "show_bars_metrics([accuracy, precision, recall, f1, roc_auc1, average_precision1], \"Datos Flickr Modelo Ig\")"
   ]
  },
  {
   "cell_type": "code",
   "execution_count": null,
   "id": "0b7175cf",
   "metadata": {},
   "outputs": [],
   "source": [
    "roc_auc(flickr_y, y_pred_proba1)"
   ]
  },
  {
   "cell_type": "code",
   "execution_count": null,
   "id": "3a26bfd8",
   "metadata": {},
   "outputs": [],
   "source": [
    "threshold1 = pr_auc(flickr_y, y_pred_proba1)"
   ]
  },
  {
   "cell_type": "code",
   "execution_count": null,
   "id": "38fbc20a",
   "metadata": {},
   "outputs": [],
   "source": [
    "# Para obtener los datos de Flickr preprocesados según el modelo de IG\n",
    "tupla_1 = find_preproc(nombre_ig.split('-')[1], conjuntos_flickr)"
   ]
  },
  {
   "cell_type": "code",
   "execution_count": null,
   "id": "fa14b44a",
   "metadata": {},
   "outputs": [],
   "source": [
    "y_pred1 = best_model_ig[1].predict(tupla_1[3])\n",
    "cm1 = confusion_matrix(tupla_1[4], y_pred1)\n",
    "cm1"
   ]
  },
  {
   "cell_type": "code",
   "execution_count": null,
   "id": "8111b39e",
   "metadata": {},
   "outputs": [],
   "source": [
    "best_model_ig[1]"
   ]
  },
  {
   "cell_type": "code",
   "execution_count": null,
   "id": "4dbe556f",
   "metadata": {},
   "outputs": [],
   "source": [
    "y_pred_proba1 = best_model_ig[1].predict_proba(tupla_1[3])[:,-1]\n",
    "roc_auc1 = metrics.roc_auc_score(tupla_1[4], y_pred_proba1)\n",
    "print(\"ROC-AUC\", round(roc_auc1, 4))\n",
    "            \n",
    "average_precision1 = metrics.average_precision_score(tupla_1[4], y_pred_proba1)\n",
    "print(\"AP/PR-AUC: \",round(average_precision1,4))\n",
    "\n",
    "# Calcular las métricas de rendimiento\n",
    "accuracy = metrics.accuracy_score(tupla_1[4], y_pred1)\n",
    "precision = metrics.precision_score(tupla_1[4], y_pred1)\n",
    "recall = metrics.recall_score(tupla_1[4], y_pred1)\n",
    "f1 = metrics.f1_score(tupla_1[4], y_pred1)"
   ]
  },
  {
   "cell_type": "code",
   "execution_count": null,
   "id": "6888951c",
   "metadata": {},
   "outputs": [],
   "source": [
    "show_bars_metrics([accuracy, precision, recall, f1, roc_auc1, average_precision1], \"Datos Flickr Modelo Ig\")"
   ]
  },
  {
   "cell_type": "markdown",
   "id": "b6c6c9d0",
   "metadata": {},
   "source": [
    "# Modelo Flickr con Datos Instagram"
   ]
  },
  {
   "cell_type": "code",
   "execution_count": null,
   "id": "dd8e2e4f",
   "metadata": {},
   "outputs": [],
   "source": [
    "fila_flickr"
   ]
  },
  {
   "cell_type": "code",
   "execution_count": null,
   "id": "66cf8611",
   "metadata": {},
   "outputs": [],
   "source": [
    "nombre_flickr"
   ]
  },
  {
   "cell_type": "code",
   "execution_count": null,
   "id": "7cf0f98d",
   "metadata": {},
   "outputs": [],
   "source": [
    "# Para obtener los datos de IG preprocesados según el modelo de Flickr\n",
    "tupla_2 = find_preproc(nombre_flickr.split('-')[1], conjuntos_ig)"
   ]
  },
  {
   "cell_type": "code",
   "execution_count": null,
   "id": "5b8b054f",
   "metadata": {},
   "outputs": [],
   "source": [
    "for nombre, model in best_models_flickr:\n",
    "    if nombre == \"LDA-qt_smote\":\n",
    "        model_aux = model\n",
    "        break\n",
    "model_aux"
   ]
  },
  {
   "cell_type": "code",
   "execution_count": null,
   "id": "a4195f16",
   "metadata": {},
   "outputs": [],
   "source": [
    "ig_x = df_ig.loc[:, df_flickr.columns != 'is_photographer']\n",
    "ig_y = df_ig.loc[:, 'is_photographer']\n",
    "\n",
    "scaler = StandardScaler()\n",
    "scaler.fit(ig_x)\n",
    "igScaled_x = pd.DataFrame(scaler.transform(ig_x), columns=ig_x.columns, index=ig_x.index)"
   ]
  },
  {
   "cell_type": "code",
   "execution_count": null,
   "id": "abd59e39",
   "metadata": {},
   "outputs": [],
   "source": [
    "y_pred2 = model_aux.predict(igScaled_x)\n",
    "cm1 = confusion_matrix(ig_y, y_pred2)\n",
    "cm1"
   ]
  },
  {
   "cell_type": "code",
   "execution_count": null,
   "id": "be0a0157",
   "metadata": {},
   "outputs": [],
   "source": [
    "matrix_confusion_pred(ig_y, y_pred2)"
   ]
  },
  {
   "cell_type": "markdown",
   "id": "fcc024b0",
   "metadata": {},
   "source": []
  },
  {
   "cell_type": "code",
   "execution_count": null,
   "id": "c3c88317",
   "metadata": {},
   "outputs": [],
   "source": [
    "roc_auc"
   ]
  },
  {
   "cell_type": "code",
   "execution_count": null,
   "id": "df8367b1",
   "metadata": {},
   "outputs": [],
   "source": [
    "y_pred_proba2 = model_aux.predict_proba(ig_x)[:,-1]\n",
    "roc_auc2 = metrics.roc_auc_score(ig_y, y_pred_proba2)\n",
    "print(\"ROC-AUC\", round(roc_auc2, 4))\n",
    "            \n",
    "average_precision2 = metrics.average_precision_score(ig_y, y_pred_proba2)\n",
    "print(\"AP/PR-AUC: \",round(average_precision2,4))\n",
    "\n",
    "# Calcular las métricas de rendimiento\n",
    "accuracy = metrics.accuracy_score(ig_y, y_pred2)\n",
    "precision = metrics.precision_score(ig_y, y_pred2)\n",
    "recall = metrics.recall_score(ig_y, y_pred2)\n",
    "f1 = metrics.f1_score(ig_y, y_pred2)"
   ]
  },
  {
   "cell_type": "code",
   "execution_count": null,
   "id": "2c2420f8",
   "metadata": {},
   "outputs": [],
   "source": [
    "show_bars_metrics([accuracy, precision, recall, f1, roc_auc2, average_precision2], \"Datos Ig Modelo Flickr\")"
   ]
  },
  {
   "cell_type": "code",
   "execution_count": null,
   "id": "626e8917",
   "metadata": {},
   "outputs": [],
   "source": [
    "del(roc_auc)"
   ]
  },
  {
   "cell_type": "code",
   "execution_count": null,
   "id": "8f193b9c",
   "metadata": {},
   "outputs": [],
   "source": [
    "roc_auc(ig_y, y_pred_proba2)"
   ]
  },
  {
   "cell_type": "code",
   "execution_count": null,
   "id": "c9b31a09",
   "metadata": {},
   "outputs": [],
   "source": [
    "threshold2 = pr_auc(ig_y, y_pred_proba2)"
   ]
  },
  {
   "cell_type": "code",
   "execution_count": null,
   "id": "3718037c",
   "metadata": {},
   "outputs": [],
   "source": [
    "best_model_flickr[1]"
   ]
  },
  {
   "cell_type": "code",
   "execution_count": null,
   "id": "b51a824d",
   "metadata": {},
   "outputs": [],
   "source": [
    "y_pred2 = best_model_ig[1].predict(tupla_2[3])\n",
    "cm2 = confusion_matrix(tupla_2[4], y_pred2)\n",
    "cm2"
   ]
  },
  {
   "cell_type": "code",
   "execution_count": null,
   "id": "d94b9b5e",
   "metadata": {},
   "outputs": [],
   "source": [
    "y_pred_proba2 = best_model_flickr[1].predict_proba(tupla_2[3])[:,-1]\n",
    "roc_auc2 = metrics.roc_auc_score(tupla_2[4], y_pred_proba2)\n",
    "print(\"ROC-AUC\", round(roc_auc2, 4))\n",
    "            \n",
    "average_precision2 = metrics.average_precision_score(tupla_2[4], y_pred_proba2)\n",
    "print(\"AP/PR-AUC: \",round(average_precision2,4))\n",
    "\n",
    "# Calcular las métricas de rendimiento\n",
    "accuracy = metrics.accuracy_score(tupla_2[4], y_pred2)\n",
    "precision = metrics.precision_score(tupla_2[4], y_pred2)\n",
    "recall = metrics.recall_score(tupla_2[4], y_pred2)\n",
    "f1 = metrics.f1_score(tupla_2[4], y_pred2)"
   ]
  },
  {
   "cell_type": "code",
   "execution_count": null,
   "id": "77246cda",
   "metadata": {},
   "outputs": [],
   "source": [
    "show_bars_metrics([accuracy, precision, recall, f1, roc_auc2, average_precision2], \"Medidas de Desempeño para Datos Ig Modelo Flickr\")"
   ]
  },
  {
   "cell_type": "code",
   "execution_count": null,
   "id": "6e6abec2",
   "metadata": {},
   "outputs": [],
   "source": []
  }
 ],
 "metadata": {
  "kernelspec": {
   "display_name": "Python 3 (ipykernel)",
   "language": "python",
   "name": "python3"
  },
  "language_info": {
   "codemirror_mode": {
    "name": "ipython",
    "version": 3
   },
   "file_extension": ".py",
   "mimetype": "text/x-python",
   "name": "python",
   "nbconvert_exporter": "python",
   "pygments_lexer": "ipython3",
   "version": "3.11.5"
  },
  "toc": {
   "base_numbering": 1,
   "nav_menu": {},
   "number_sections": true,
   "sideBar": true,
   "skip_h1_title": false,
   "title_cell": "Table of Contents",
   "title_sidebar": "Contents",
   "toc_cell": false,
   "toc_position": {},
   "toc_section_display": true,
   "toc_window_display": false
  }
 },
 "nbformat": 4,
 "nbformat_minor": 5
}

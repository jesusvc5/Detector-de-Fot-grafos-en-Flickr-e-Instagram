{
 "cells": [
  {
   "cell_type": "code",
   "execution_count": null,
   "id": "2c3e605c",
   "metadata": {},
   "outputs": [],
   "source": [
    "import math\n",
    "import graphviz\n",
    "import matplotlib.pyplot as plt\n",
    "import numpy as np\n",
    "import pandas as pd"
   ]
  },
  {
   "cell_type": "code",
   "execution_count": null,
   "id": "08cc6a47",
   "metadata": {},
   "outputs": [],
   "source": [
    "# Crea un gráfico circular con el porcentaje de fotógrafos prefesionales y los que no\n",
    "def show_loan_distrib(y):\n",
    "    i=0\n",
    "    normales = 0\n",
    "    fotografos = 0\n",
    "    while (i<len(y)):\n",
    "        if y[i]==0:\n",
    "            normales+=1\n",
    "        else: fotografos+=1\n",
    "        i+=1\n",
    "\n",
    "    tamanos = [fotografos, normales]\n",
    "\n",
    "    etiquetas = [f'Fotógrafos profesionales - {tamanos[0]}', f'Otros usuarios - {tamanos[1]}']\n",
    "\n",
    "\n",
    "    plt.pie(tamanos, labels=etiquetas, autopct = '%1.1f%%', explode = [0, 0.1])\n",
    "\n",
    "    plt.show()"
   ]
  },
  {
   "cell_type": "markdown",
   "id": "155279ba",
   "metadata": {},
   "source": [
    "Para obtener el dataset con los datos para la replicación de los experimentos, consultar el README del repositorio."
   ]
  },
  {
   "cell_type": "code",
   "execution_count": null,
   "id": "41eca0c2",
   "metadata": {},
   "outputs": [],
   "source": [
    "DATASET_FLICKR = \n",
    "DATASET_IG = "
   ]
  },
  {
   "cell_type": "markdown",
   "id": "ec1c265c",
   "metadata": {},
   "source": [
    "Cargamos los datos de Flickr"
   ]
  },
  {
   "cell_type": "code",
   "execution_count": null,
   "id": "56979375",
   "metadata": {},
   "outputs": [],
   "source": [
    "# Cargamos los datos\n",
    "dt_flickr = pd.read_csv(DATASET_FLICKR)"
   ]
  },
  {
   "cell_type": "markdown",
   "id": "8c332c48",
   "metadata": {},
   "source": [
    "Eliminamos a los usuarios \"DELETED\""
   ]
  },
  {
   "cell_type": "code",
   "execution_count": null,
   "id": "63bafccf",
   "metadata": {},
   "outputs": [],
   "source": [
    "# Cambiamos la columna a bool\n",
    "dt_flickr['is_photographer'] = dt_flickr['is_photographer'].map({'Yes':True,'No':False}).fillna('DELETED')\n",
    "\n",
    "# Contamos el número de usuarios DELETED\n",
    "num_deleted = dt_flickr['is_photographer'].value_counts().get('DELETED', 0)\n",
    "print(num_deleted)\n",
    "# Quitamos las filas de los usuarios borrados\n",
    "dt_flickr = dt_flickr[dt_flickr['is_photographer'] != 'DELETED']\n",
    "\n",
    "num_deleted = dt_flickr['is_photographer'].value_counts().get('DELETED', 0)\n",
    "print(num_deleted)\n",
    "\n",
    "# Contamos el número de usuarios para cada etiqueta\n",
    "num_yes = dt_flickr.loc[dt_flickr['is_photographer'] == True, 'is_photographer'].count()\n",
    "num_no = dt_flickr.loc[dt_flickr['is_photographer'] == False, 'is_photographer'].count()\n",
    "\n",
    "print(num_yes)\n",
    "print(num_no)\n",
    "print(num_deleted+num_no+num_yes)"
   ]
  },
  {
   "cell_type": "markdown",
   "id": "ceb281cf",
   "metadata": {},
   "source": [
    "Reseteamos los índices"
   ]
  },
  {
   "cell_type": "code",
   "execution_count": null,
   "id": "a7e7eec8",
   "metadata": {},
   "outputs": [],
   "source": [
    "dt_flickr = dt_flickr.reset_index(drop=True)\n",
    "dt_flickr"
   ]
  },
  {
   "cell_type": "markdown",
   "id": "361bc305",
   "metadata": {},
   "source": [
    "Guardamos las etiquetas de Flickr manual y computacional"
   ]
  },
  {
   "cell_type": "code",
   "execution_count": null,
   "id": "1d270b19",
   "metadata": {},
   "outputs": [],
   "source": [
    "etiq_flickr_manual = dt_flickr['is_photographer']\n",
    "etiq_flickr_auto = dt_flickr['professional']"
   ]
  },
  {
   "cell_type": "code",
   "execution_count": null,
   "id": "97608b54",
   "metadata": {},
   "outputs": [],
   "source": [
    "show_loan_distrib(etiq_flickr_manual)"
   ]
  },
  {
   "cell_type": "code",
   "execution_count": null,
   "id": "ee5a8079",
   "metadata": {},
   "outputs": [],
   "source": [
    "show_loan_distrib(etiq_flickr_auto)"
   ]
  },
  {
   "cell_type": "markdown",
   "id": "2f034ca1",
   "metadata": {},
   "source": [
    "Cargamos los datos de Instagram"
   ]
  },
  {
   "cell_type": "code",
   "execution_count": null,
   "id": "cf6b7f2b",
   "metadata": {},
   "outputs": [],
   "source": [
    "dt_instagram = pd.read_csv(DATASET_IG)"
   ]
  },
  {
   "cell_type": "markdown",
   "id": "f0be891c",
   "metadata": {},
   "source": [
    "Limpiamos los datos de Instagram para que no tengan usuarios DELETED."
   ]
  },
  {
   "cell_type": "code",
   "execution_count": null,
   "id": "a471e931",
   "metadata": {},
   "outputs": [],
   "source": [
    "# Cambiamos la columna a bool\n",
    "dt_instagram['Photographer'] = dt_instagram['Photographer'].map({'Yes':True,'No':False}).fillna('DELETED')\n",
    "\n",
    "# Contamos el número de usuarios DELETED\n",
    "num_deleted = dt_instagram['Photographer'].value_counts().get('DELETED', 0)\n",
    "print(num_deleted)\n",
    "# Quitamos las filas de los usuarios borrados\n",
    "dt_instagram = dt_instagram[dt_instagram['Photographer'] != 'DELETED']\n",
    "\n",
    "num_deleted = dt_instagram['Photographer'].value_counts().get('DELETED', 0)\n",
    "print(num_deleted)\n",
    "\n",
    "# Contamos el número de usuarios para cada etiqueta\n",
    "num_yes = dt_instagram.loc[dt_instagram['Photographer'] == True, 'Photographer'].count()\n",
    "num_no = dt_instagram.loc[dt_instagram['Photographer'] == False, 'Photographer'].count()\n",
    "\n",
    "print(num_yes)\n",
    "print(num_no)\n",
    "print(num_deleted+num_no+num_yes)"
   ]
  },
  {
   "cell_type": "markdown",
   "id": "8e97313e",
   "metadata": {},
   "source": [
    "Creamos el conjunto de datos que tenga etiqueta computacional"
   ]
  },
  {
   "cell_type": "code",
   "execution_count": null,
   "id": "1f91336e",
   "metadata": {},
   "outputs": [],
   "source": [
    "dt_ig_etiq = pd.read_csv('datasetPhotographerClassification.csv')\n",
    "dt_ig_etiq = dt_ig_etiq.loc[dt_instagram.index]\n",
    "dt_ig_etiq = dt_ig_etiq.reset_index(drop=True)\n",
    "dt_ig_etiq['Photographer'] = dt_ig_etiq['Photographer'].map({True:1,False:0})\n",
    "dt_ig_etiq"
   ]
  },
  {
   "cell_type": "markdown",
   "id": "163ebda4",
   "metadata": {},
   "source": [
    "Aunque sólo nos interesa la etiqueta"
   ]
  },
  {
   "cell_type": "code",
   "execution_count": null,
   "id": "43851664",
   "metadata": {},
   "outputs": [],
   "source": [
    "etiq_ig_aut = dt_ig_etiq['Photographer']\n",
    "show_loan_distrib(etiq_ig_aut.astype(float))"
   ]
  },
  {
   "cell_type": "markdown",
   "id": "d5991b2a",
   "metadata": {},
   "source": [
    "Reseteamos los índices del conjunto de Instagram"
   ]
  },
  {
   "cell_type": "code",
   "execution_count": null,
   "id": "a3c7ba52",
   "metadata": {},
   "outputs": [],
   "source": [
    "dt_instagram = dt_instagram.reset_index(drop=True)\n",
    "dt_instagram"
   ]
  },
  {
   "cell_type": "markdown",
   "id": "55c06f4e",
   "metadata": {},
   "source": [
    "Y guardamos la etiqueta manual"
   ]
  },
  {
   "cell_type": "code",
   "execution_count": null,
   "id": "de129ae0",
   "metadata": {},
   "outputs": [],
   "source": [
    "etiq_ig_manual = dt_instagram['Photographer']\n",
    "show_loan_distrib(etiq_ig_manual.astype(float))"
   ]
  },
  {
   "cell_type": "code",
   "execution_count": null,
   "id": "4d0b9074",
   "metadata": {},
   "outputs": [],
   "source": [
    "dt_flickr"
   ]
  },
  {
   "cell_type": "markdown",
   "id": "a7c20063",
   "metadata": {},
   "source": [
    "# Dimensiones comunes"
   ]
  },
  {
   "cell_type": "code",
   "execution_count": null,
   "id": "5261c382",
   "metadata": {},
   "outputs": [],
   "source": [
    "dt_flickr"
   ]
  },
  {
   "cell_type": "code",
   "execution_count": null,
   "id": "756a1a46",
   "metadata": {},
   "outputs": [],
   "source": [
    "dt_instagram"
   ]
  },
  {
   "cell_type": "code",
   "execution_count": null,
   "id": "3dde577f",
   "metadata": {},
   "outputs": [],
   "source": [
    "dimensiones = ['popularidad', 'popularidad_var', 'aesthetic_score', 'aesthetic_score_var', 'tech_score', 'tech_score_var', \n",
    "               'dificultad', 'polaridad', 'subj', 'entropia', 'etiquetas', 'etiquetas_var', 'profesional']"
   ]
  },
  {
   "cell_type": "code",
   "execution_count": null,
   "id": "a79e2b95",
   "metadata": {},
   "outputs": [],
   "source": [
    "dim_flickr_pop = ['following_n', 'photo_count', 'favorites_n_mean', 'comments_n_mean', 'groups_n', 'groups_n_mean', 'views_mean']\n",
    "dim_flickr_pop_var = ['favorites_n_std', 'comments_n_std', 'groups_n_std', 'views_std']\n",
    "dim_flickr_ascore = ['nima_score_mean', 'kong_score_mean']\n",
    "dim_flickr_ascore_var = ['nima_score_std', 'kong_score_std']\n",
    "dim_flickr_tscore = ['nima_tech_score_mean']\n",
    "dim_flickr_tscore_var = ['nima_tech_score_std']\n",
    "dim_flickr_diff = ['avg_length_mean', 'avg_diff_words_mean', 'avg_read_time_mean']\n",
    "dim_flickr_pol = ['avg_polarity_mean']\n",
    "dim_flickr_subj = ['avg_subj_mean']\n",
    "dim_flickr_entropy = ['avg_entropy_mean']\n",
    "dim_flickr_tags = ['tags_n_mean']\n",
    "dim_flickr_tags_var = ['tags_n_std']\n",
    "dim_flickr_pro = ['ispro']\n",
    "\n",
    "dim_ig_pop = ['followers', 'followees', 'numberOfPosts', 'avgLikes', 'avgComments']\n",
    "dim_ig_pop_var = ['varLikes', 'varComments']\n",
    "dim_ig_ascore = ['avgScore']\n",
    "dim_ig_ascore_var = ['varScore']\n",
    "dim_ig_tscore = ['avgTechScore']\n",
    "dim_ig_tscore_var = ['varTechScore']\n",
    "dim_ig_diff = ['cLength', 'cDifficultWords', 'cSecondsToRead', 'captionLength', 'captionDifficultWords', 'captionSecondsToRead']\n",
    "dim_ig_pol = ['captionPolarity', 'cPolarity']\n",
    "dim_ig_subj = ['captionSubjectivity', 'cSubjectivity']\n",
    "dim_ig_entropy = ['captionEntropy', 'cEntropy']\n",
    "dim_ig_tags = ['captionAvgHashtags']\n",
    "dim_ig_tags_var = ['captionVarHashtags']\n",
    "dim_ig_pro = ['isBusiness', 'isProfessional']"
   ]
  },
  {
   "cell_type": "code",
   "execution_count": null,
   "id": "246cda88",
   "metadata": {},
   "outputs": [],
   "source": [
    "dt_flickr_aux = dt_flickr.copy()\n",
    "dt_ig_aux = dt_instagram.copy()"
   ]
  },
  {
   "cell_type": "code",
   "execution_count": null,
   "id": "a2d33ef7",
   "metadata": {},
   "outputs": [],
   "source": [
    "# Pasamos de desviación estándar a varianza\n",
    "dt_flickr_aux[dim_flickr_pop_var] = dt_flickr_aux[dim_flickr_pop_var]**2\n",
    "dt_flickr_aux[dim_flickr_ascore_var] = dt_flickr_aux[dim_flickr_ascore_var]**2\n",
    "dt_flickr_aux[dim_flickr_tscore_var] = dt_flickr_aux[dim_flickr_tscore_var]**2\n",
    "dt_flickr_aux[dim_flickr_tags_var] = dt_flickr_aux[dim_flickr_tags_var]**2"
   ]
  },
  {
   "cell_type": "code",
   "execution_count": null,
   "id": "4440e019",
   "metadata": {},
   "outputs": [],
   "source": [
    "from scipy.stats import zscore"
   ]
  },
  {
   "cell_type": "code",
   "execution_count": null,
   "id": "cfaece2f",
   "metadata": {},
   "outputs": [],
   "source": [
    "df_dimensiones_flickr = pd.DataFrame(columns = dimensiones)\n",
    "df_dimensiones_ig = pd.DataFrame(columns = dimensiones)\n",
    "dimensiones_flickr = [dim_flickr_pop, dim_flickr_pop_var, dim_flickr_ascore, dim_flickr_ascore_var, \n",
    "                      dim_flickr_tscore, dim_flickr_tscore_var, dim_flickr_diff, dim_flickr_pol, \n",
    "                      dim_flickr_subj, dim_flickr_entropy, dim_flickr_tags , dim_flickr_tags_var, dim_flickr_pro]\n",
    "\n",
    "dimensiones_ig = [dim_ig_pop, dim_ig_pop_var, dim_ig_ascore, dim_ig_ascore_var, dim_ig_tscore, \n",
    "                  dim_ig_tscore_var, dim_ig_diff, dim_ig_pol, dim_ig_subj, dim_ig_entropy, dim_ig_tags, \n",
    "                  dim_ig_tags_var, dim_ig_pro]"
   ]
  },
  {
   "cell_type": "code",
   "execution_count": null,
   "id": "5faec4a4",
   "metadata": {},
   "outputs": [],
   "source": [
    "len(dimensiones)"
   ]
  },
  {
   "cell_type": "markdown",
   "id": "fbdda197",
   "metadata": {},
   "source": [
    "## Flickr"
   ]
  },
  {
   "cell_type": "code",
   "execution_count": null,
   "id": "d553a034",
   "metadata": {},
   "outputs": [],
   "source": [
    "for i in range(len(dimensiones_flickr)):\n",
    "    print(dimensiones_flickr[i])\n",
    "    print(dimensiones[i])"
   ]
  },
  {
   "cell_type": "code",
   "execution_count": null,
   "id": "ebc84feb",
   "metadata": {},
   "outputs": [],
   "source": [
    "for i in range(len(dimensiones_flickr)):\n",
    "    df_zscore_aux = dt_flickr_aux[dimensiones_flickr[i]].apply(zscore)\n",
    "    df_zscore_aux = df_zscore_aux.sum(axis=1)\n",
    "    max_value = np.max(df_zscore_aux)\n",
    "    min_value = np.min(df_zscore_aux)\n",
    "    df_score_aux = (df_zscore_aux - min_value)/(max_value - min_value)\n",
    "    df_dimensiones_flickr[dimensiones[i]] = df_score_aux"
   ]
  },
  {
   "cell_type": "code",
   "execution_count": null,
   "id": "079b6d57",
   "metadata": {},
   "outputs": [],
   "source": [
    "df_dimensiones_flickr_manual = pd.DataFrame(columns = dimensiones)\n",
    "df_dimensiones_flickr_aut = pd.DataFrame(columns = dimensiones)\n",
    "\n",
    "df_dimensiones_flickr_manual = df_dimensiones_flickr.copy()\n",
    "df_dimensiones_flickr_aut = df_dimensiones_flickr.copy()\n",
    "df_dimensiones_flickr_manual['is_photographer'] = etiq_flickr_manual.astype(float)\n",
    "df_dimensiones_flickr_aut['is_photographer'] = etiq_flickr_auto.astype(float)"
   ]
  },
  {
   "cell_type": "code",
   "execution_count": null,
   "id": "8d82334d",
   "metadata": {},
   "outputs": [],
   "source": [
    "df_dimensiones_flickr"
   ]
  },
  {
   "cell_type": "code",
   "execution_count": null,
   "id": "a9d42fa6",
   "metadata": {},
   "outputs": [],
   "source": [
    "df_dimensiones_flickr_manual"
   ]
  },
  {
   "cell_type": "code",
   "execution_count": null,
   "id": "9432f2c3",
   "metadata": {},
   "outputs": [],
   "source": [
    "df_dimensiones_flickr_aut"
   ]
  },
  {
   "cell_type": "code",
   "execution_count": null,
   "id": "f68afb17",
   "metadata": {},
   "outputs": [],
   "source": [
    "df_dimensiones_flickr_manual.to_csv('dataset_comunes_flickr_manual.csv', index = False)\n",
    "df_dimensiones_flickr_aut.to_csv('dataset_comunes_flickr_aut.csv', index = False)"
   ]
  },
  {
   "cell_type": "markdown",
   "id": "14d76e4b",
   "metadata": {},
   "source": [
    "## Instagram"
   ]
  },
  {
   "cell_type": "code",
   "execution_count": null,
   "id": "52c9870b",
   "metadata": {},
   "outputs": [],
   "source": [
    "for i in range(len(dimensiones_ig)):\n",
    "    print(dimensiones_ig[i])\n",
    "    print(dimensiones[i])"
   ]
  },
  {
   "cell_type": "code",
   "execution_count": null,
   "id": "8e5203d9",
   "metadata": {},
   "outputs": [],
   "source": [
    "for i in range(len(dimensiones_flickr)):\n",
    "    df_zscore_aux = dt_ig_aux[dimensiones_ig[i]].apply(zscore)\n",
    "    df_zscore_aux = df_zscore_aux.sum(axis=1)\n",
    "    max_value = np.max(df_zscore_aux)\n",
    "    min_value = np.min(df_zscore_aux)\n",
    "    df_score_aux = (df_zscore_aux - min_value)/(max_value - min_value)\n",
    "    df_dimensiones_ig[dimensiones[i]] = df_score_aux"
   ]
  },
  {
   "cell_type": "code",
   "execution_count": null,
   "id": "08744073",
   "metadata": {},
   "outputs": [],
   "source": [
    "df_dimensiones_ig_manual = pd.DataFrame(columns = dimensiones)\n",
    "df_dimensiones_ig_aut = pd.DataFrame(columns = dimensiones)\n",
    "\n",
    "df_dimensiones_ig_manual = df_dimensiones_ig.copy()\n",
    "df_dimensiones_ig_aut = df_dimensiones_ig.copy()\n",
    "df_dimensiones_ig_manual['is_photographer'] = etiq_ig_manual.astype(float)\n",
    "df_dimensiones_ig_aut['is_photographer'] = etiq_ig_aut.astype(float)"
   ]
  },
  {
   "cell_type": "code",
   "execution_count": null,
   "id": "993a5332",
   "metadata": {},
   "outputs": [],
   "source": [
    "df_dimensiones_ig"
   ]
  },
  {
   "cell_type": "code",
   "execution_count": null,
   "id": "6dbd0e7a",
   "metadata": {},
   "outputs": [],
   "source": [
    "df_dimensiones_ig_manual"
   ]
  },
  {
   "cell_type": "code",
   "execution_count": null,
   "id": "e18a47b0",
   "metadata": {},
   "outputs": [],
   "source": [
    "df_dimensiones_ig_aut"
   ]
  },
  {
   "cell_type": "code",
   "execution_count": null,
   "id": "9dceb6b8",
   "metadata": {},
   "outputs": [],
   "source": [
    "df_dimensiones_ig_manual.to_csv('dataset_comunes_ig_manual.csv', index = False)\n",
    "df_dimensiones_ig_aut.to_csv('dataset_comunes_ig_aut.csv', index = False)"
   ]
  },
  {
   "cell_type": "markdown",
   "id": "175848b2",
   "metadata": {},
   "source": [
    "## Flickr + Ig"
   ]
  },
  {
   "cell_type": "code",
   "execution_count": null,
   "id": "4cb8f9a5",
   "metadata": {},
   "outputs": [],
   "source": [
    "df_comunes_manual = pd.concat([df_dimensiones_flickr_manual, df_dimensiones_ig_manual], ignore_index=True)\n",
    "df_comunes_aut = pd.concat([df_dimensiones_flickr_aut, df_dimensiones_ig_aut], ignore_index=True)"
   ]
  },
  {
   "cell_type": "code",
   "execution_count": null,
   "id": "0d179861",
   "metadata": {},
   "outputs": [],
   "source": [
    "df_comunes_aut"
   ]
  },
  {
   "cell_type": "code",
   "execution_count": null,
   "id": "1bfd53c0",
   "metadata": {},
   "outputs": [],
   "source": [
    "df_comunes_manual"
   ]
  },
  {
   "cell_type": "code",
   "execution_count": null,
   "id": "bf5a1703",
   "metadata": {},
   "outputs": [],
   "source": [
    "show_loan_distrib(df_comunes_aut['is_photographer'])"
   ]
  },
  {
   "cell_type": "code",
   "execution_count": null,
   "id": "40b82c97",
   "metadata": {},
   "outputs": [],
   "source": [
    "show_loan_distrib(df_comunes_manual['is_photographer'])"
   ]
  },
  {
   "cell_type": "code",
   "execution_count": null,
   "id": "1d85ae36",
   "metadata": {},
   "outputs": [],
   "source": [
    "df_comunes_aut.to_csv('dataset_flickr_ig_aut.csv', index = False)\n",
    "df_comunes_manual.to_csv('dataset_flickr_ig_manual.csv', index = False)"
   ]
  }
 ],
 "metadata": {
  "kernelspec": {
   "display_name": "Python 3 (ipykernel)",
   "language": "python",
   "name": "python3"
  },
  "language_info": {
   "codemirror_mode": {
    "name": "ipython",
    "version": 3
   },
   "file_extension": ".py",
   "mimetype": "text/x-python",
   "name": "python",
   "nbconvert_exporter": "python",
   "pygments_lexer": "ipython3",
   "version": "3.11.5"
  },
  "toc": {
   "base_numbering": 1,
   "nav_menu": {},
   "number_sections": true,
   "sideBar": true,
   "skip_h1_title": false,
   "title_cell": "Table of Contents",
   "title_sidebar": "Contents",
   "toc_cell": false,
   "toc_position": {},
   "toc_section_display": true,
   "toc_window_display": false
  }
 },
 "nbformat": 4,
 "nbformat_minor": 5
}
